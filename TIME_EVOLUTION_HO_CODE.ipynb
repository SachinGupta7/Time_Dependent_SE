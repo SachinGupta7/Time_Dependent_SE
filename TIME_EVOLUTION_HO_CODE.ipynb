{
 "cells": [
  {
   "cell_type": "markdown",
   "metadata": {},
   "source": [
    "# Time Evolution in Harmonic Oscillator\n",
    "\n",
    "\n",
    "we will see the time evolution of a gaussian wave packet within the harmonic oscillator. note that to provide the momentum to the wave function we multiply it by $e^{ikx}$. \n",
    "\n"
   ]
  },
  {
   "cell_type": "code",
   "execution_count": 2,
   "metadata": {
    "scrolled": true
   },
   "outputs": [
    {
     "data": {
      "application/vnd.jupyter.widget-view+json": {
       "model_id": "757640cc09094f109c3e67b63674f6c4",
       "version_major": 2,
       "version_minor": 0
      },
      "text/plain": [
       "VBox(children=(Figure(animation_duration=30, axes=[Axis(scale=LinearScale()), Axis(orientation='vertical', sca…"
      ]
     },
     "metadata": {},
     "output_type": "display_data"
    },
    {
     "name": "stdout",
     "output_type": "stream",
     "text": [
      "|Phi|^2 =  0.9999999999999996\n",
      "|Phi|^2 =  0.9999999999999996\n",
      "|Phi|^2 =  0.9999999999999996\n",
      "|Phi|^2 =  0.9999999999999996\n",
      "|Phi|^2 =  0.9999999999999996\n"
     ]
    },
    {
     "data": {
      "application/vnd.jupyter.widget-view+json": {
       "model_id": "6c282b81005b4fa181d9eb764dbc109e",
       "version_major": 2,
       "version_minor": 0
      },
      "text/plain": [
       "interactive(children=(Play(value=0, description='N1', interval=105, max=500), Output()), _dom_classes=('widget…"
      ]
     },
     "metadata": {},
     "output_type": "display_data"
    },
    {
     "data": {
      "text/plain": [
       "<function __main__.gv(N1)>"
      ]
     },
     "execution_count": 2,
     "metadata": {},
     "output_type": "execute_result"
    }
   ],
   "source": [
    "import numpy as np\n",
    "from ipywidgets import*\n",
    "from bqplot import pyplot as plt\n",
    "\n",
    "\n",
    "\n",
    "N = 400 \n",
    "xs = np.linspace(-10,10,N)\n",
    "dx = xs[3]-xs[2]\n",
    "p0 = 1.5 ##momentum\n",
    "sig = 1\n",
    "peak = 0.0  ## value at which Gaussian exhibits its peak\n",
    "\n",
    "\n",
    "def phi(x,sig,peak):\n",
    "    const = 1.0/(np.sqrt(2*np.pi*sig*sig))\n",
    "    return const*(np.exp(-((x-peak)**2)/(2*sig**2)))*np.exp(-1.j*p0*x)\n",
    "\n",
    "\n",
    "def prob(H):\n",
    "    bn = np.conjugate(H)\n",
    "    vb = np.multiply(bn,H)\n",
    "    return np.real(vb);\n",
    "def V0(c):   ###HARMONIC POTENTIAL\n",
    "    return (1.0)*c*c;\n",
    "\n",
    "\n",
    "\n",
    "Vpo = np.array([V0(xc) for xc in xs])\n",
    "\n",
    "\n",
    "\n",
    "\n",
    "\n",
    "\n",
    "def kdirac(i,j):\n",
    "    if(i==j):\n",
    "        return 1;\n",
    "    else:\n",
    "        return 0;\n",
    "def hamil(i,j):\n",
    "    v =(-kdirac(i+1,j)+2*kdirac(i,j)-kdirac(i-1,j))/(dx**2) + kdirac(i,j)*Vpo[i] ;\n",
    "    return v;\n",
    "\n",
    "Ham = np.zeros(N*N).reshape(N,N)\n",
    "\n",
    "\n",
    "\n",
    "\n",
    "\n",
    "for i in range(N):\n",
    "    for j in range(N):\n",
    "        Ham[i,j] = hamil(i,j)\n",
    "Eigval,Eigvect = np.linalg.eigh(Ham) \n",
    "\n",
    "\n",
    "\n",
    "\n",
    "Psi = np.array([phi(x,sig,peak) for x in xs],dtype = complex)\n",
    "norm_const = 1.0/np.sqrt(np.sum(prob(Psi)))\n",
    "Psi = norm_const*Psi  ## Normalized Wave function\n",
    "\n",
    "\n",
    "Psi_sqr = prob(Psi)   ## mod psi square\n",
    "Psi_History = Psi_sqr.reshape(N,1)\n",
    "\n",
    "\n",
    "fig = plt.figure(layout= {'width':'1000px','height':'800px'})\n",
    "fig.animation_duration = 30\n",
    "plt.clear()\n",
    "plot = plt.plot(xs,50*Psi_sqr,colors = ['orange']) ##I have multiply the psi square array by 50 to scale it\n",
    "plt.plot(xs,0.05*Vpo,colors = ['black'])\n",
    "plt.show()\n",
    "\n",
    "\n",
    "\n",
    "\n",
    "\n",
    "XX = np.conjugate(np.transpose(Eigvect))\n",
    "Eigvect = np.transpose(Eigvect)\n",
    "\n",
    "cn_s =  np.matmul(XX,Psi)\n",
    "cn_s = cn_s.reshape(N,1)\n",
    "\n",
    "\n",
    "t= 0\n",
    "dt = 0.1\n",
    "Eigval = Eigval.reshape(N,1)\n",
    "N_iter = 500\n",
    "for i in range(N_iter):\n",
    " \n",
    "    zx = -1.j*Eigval*t\n",
    "    cn_t = np.multiply(cn_s,np.exp(zx))\n",
    "    Psi_t = np.multiply(Eigvect,cn_t)\n",
    "    Psi_t = np.sum(Psi_t,axis = 0)\n",
    "\n",
    "        \n",
    "    Psi_t = prob(Psi_t)\n",
    "    if(i%100==0 and i<=N_iter):\n",
    "        \n",
    "        print(\"|Phi|^2 = \",np.sum(Psi_sqr))\n",
    "\n",
    "    Psi_t = Psi_t.reshape(N,1)    \n",
    "        \n",
    "  \n",
    "\n",
    "    Psi_History = np.hstack((Psi_History,Psi_t))\n",
    "    t+= dt\n",
    "\n",
    "\n",
    "fig.animation_duration = 100\n",
    "def gv(N1):\n",
    "    plot.y = 50*Psi_History[:,N1]\n",
    "\n",
    "interact(gv,N1= Play(interval = 105,value=0,min=0,max=N_iter,step=1,descrption= \"press play\",disabled = False))\n",
    "\n",
    "\n",
    "\n"
   ]
  },
  {
   "cell_type": "code",
   "execution_count": null,
   "metadata": {},
   "outputs": [],
   "source": []
  }
 ],
 "metadata": {
  "kernelspec": {
   "display_name": "Python 3",
   "language": "python",
   "name": "python3"
  },
  "language_info": {
   "codemirror_mode": {
    "name": "ipython",
    "version": 3
   },
   "file_extension": ".py",
   "mimetype": "text/x-python",
   "name": "python",
   "nbconvert_exporter": "python",
   "pygments_lexer": "ipython3",
   "version": "3.7.6"
  },
  "latex_envs": {
   "LaTeX_envs_menu_present": true,
   "autoclose": false,
   "autocomplete": false,
   "bibliofile": "biblio.bib",
   "cite_by": "apalike",
   "current_citInitial": 1,
   "eqLabelWithNumbers": true,
   "eqNumInitial": 1,
   "hotkeys": {
    "equation": "Ctrl-E",
    "itemize": "Ctrl-I"
   },
   "labels_anchors": false,
   "latex_user_defs": false,
   "report_style_numbering": false,
   "user_envs_cfg": false
  }
 },
 "nbformat": 4,
 "nbformat_minor": 4
}
