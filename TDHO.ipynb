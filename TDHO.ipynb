{
 "cells": [
  {
   "cell_type": "markdown",
   "metadata": {},
   "source": [
    "# Time Evolution in Harmonic Oscillator\n",
    "\n",
    "\n",
    "Now we are going to do some cool stuff with [Time Dependent Schrodinger Equation](). \n",
    "we will just change the potential in the code of simple time evolution\n",
    "\n",
    "I will be taking Gaussian function and then multiplying it by $e^{ikx}$ to provide the momentum to the wave function. \n",
    "Then we will plot the probability i.e. $|\\Psi(x,t)|^2$.\n",
    "\n",
    "\n",
    "I will be using the same method that we did for [Time Dependent Schrodinger Equation]().\n",
    "\n",
    "\n",
    "## <center> Python Code </center>\n"
   ]
  },
  {
   "cell_type": "markdown",
   "metadata": {},
   "source": [
    " # Run cells one by one by (shift+enter)"
   ]
  },
  {
   "cell_type": "code",
   "execution_count": 1,
   "metadata": {},
   "outputs": [],
   "source": [
    "\n",
    "import numpy as np\n",
    "from ipywidgets import*\n",
    "from bqplot import pyplot as plt"
   ]
  },
  {
   "cell_type": "markdown",
   "metadata": {},
   "source": [
    "## defining Functions\n",
    "\n",
    "1. First function will calculate $\\Phi^{\\dagger}\\Phi$\n",
    "2. Second one will return Gaussian function\n",
    "\n"
   ]
  },
  {
   "cell_type": "code",
   "execution_count": 2,
   "metadata": {},
   "outputs": [],
   "source": [
    "\n",
    "\n",
    "def prob(H): ##probabilty function\n",
    "    bn = np.conjugate(H)   \n",
    "    vb = np.multiply(bn,H)\n",
    "    return np.real(vb);\n",
    "\n",
    "N = 400   ##number of descretee space points\n",
    "sig = 1  ##width of gaussian \n",
    "peak = 0.  ## value at which Gaussian exhibits its peak\n",
    "xs = np.linspace(-10,10,N)  ## creating space arrya \n",
    "dx = xs[4]-xs[3] ##finding delta x\n",
    "\n",
    "k0 = 1.4 ## to provide momentum to the wavefunction \n",
    "\n",
    "def phi(x,sig,peak):\n",
    "    const = 1.0/(np.sqrt(2*np.pi*sig*sig))\n",
    "    return const*(np.exp(-((x-peak)**2)/(2*sig**2)))*np.exp(-1.j*k0*x)\n",
    "\n",
    "\n",
    "def V0(c):   ###HARMONIC POTENTIAL\n",
    "    return (1.0/2)*c*c;\n",
    "\n"
   ]
  },
  {
   "cell_type": "markdown",
   "metadata": {},
   "source": [
    "## Defining parameters and Normalized Gaussian Function"
   ]
  },
  {
   "cell_type": "code",
   "execution_count": 3,
   "metadata": {},
   "outputs": [
    {
     "data": {
      "application/vnd.jupyter.widget-view+json": {
       "model_id": "96b59385d5004802b71fa767e821fe18",
       "version_major": 2,
       "version_minor": 0
      },
      "text/plain": [
       "VBox(children=(Figure(axes=[Axis(scale=LinearScale()), Axis(orientation='vertical', scale=LinearScale())], fig…"
      ]
     },
     "metadata": {},
     "output_type": "display_data"
    }
   ],
   "source": [
    "\n",
    "Psi = np.array([phi(x,sig,peak) for x in xs],dtype = complex)  ##gaussian function\n",
    "norm_const = 1.0/np.sqrt(np.sum(prob(Psi)))  ##normalization constant\n",
    "Psi = norm_const*Psi.reshape(N,1)  ## Normalized Wave function it's a column vector\n",
    "\n",
    "\n",
    "\n",
    "Vpo = np.array([V0(xc) for xc in xs])\n",
    "fig = plt.figure(layout= {'width':'860px','height':'600px'}) ##initializing figures\n",
    "plt.clear() ## \n",
    "\n",
    "Psi_sqr = prob(Psi) ## probability array beacuse it is only meaningful \n",
    "\n",
    "fig = plt.figure(layout= {'width':'860px','height':'670px'})\n",
    "\n",
    "plt.clear()\n",
    "\n",
    "s_p = 1000\n",
    "plot = plt.plot(xs,s_p*Psi_sqr,colors = ['orange']) ##I have multiply the psi square array by s_p to scale it\n",
    "plt.plot(xs,Vpo,colors = ['black'])\n",
    "\n",
    "plt.show()\n",
    "\n",
    "\n"
   ]
  },
  {
   "cell_type": "markdown",
   "metadata": {},
   "source": [
    "## Time Evolution (Main Part):\n",
    "\n"
   ]
  },
  {
   "cell_type": "markdown",
   "metadata": {},
   "source": [
    "### It will also show value of $\\Phi^{\\dagger}\\Phi$ at different instants"
   ]
  },
  {
   "cell_type": "code",
   "execution_count": 4,
   "metadata": {
    "scrolled": false
   },
   "outputs": [
    {
     "name": "stdout",
     "output_type": "stream",
     "text": [
      "|Phi|^2 =  0.9999999999999996\n",
      "|Phi|^2 =  0.9999999999999996\n",
      "|Phi|^2 =  0.9999999999999996\n",
      "|Phi|^2 =  0.9999999999999996\n",
      "|Phi|^2 =  0.9999999999999996\n"
     ]
    }
   ],
   "source": [
    "Psi_History = Psi_sqr.reshape(N,1)  ##we will store Psi_square value at different instant in this array as a column matrix which will be accesed later for animation\n",
    "\n",
    "def kdirac(i,j): ##kronecker delta function\n",
    "    if(i==j):\n",
    "        return 1;\n",
    "    else:\n",
    "        return 0;\n",
    "def hamil(i,j): ##hamiltonian function\n",
    "    v =(-kdirac(i+1,j)+2*kdirac(i,j)-kdirac(i-1,j))/(dx**2) + kdirac(i,j)*Vpo[i] ;\n",
    "    return v;\n",
    "\n",
    "Ham = np.zeros(N*N).reshape(N,N)   #initializing hamiltonian matrrix\n",
    "\n",
    "\n",
    "for i in range(N):  #populating hamiltonian matrix\n",
    "    for j in range(N):\n",
    "        Ham[i,j] = hamil(i,j)\n",
    "Eigval,Eigvect = np.linalg.eigh(Ham)      # calculataing eigenvectors and eigenvalues\n",
    "\n",
    "\n",
    "## Eigen vectors contains all the wave vector, and these are orthonormal (check it!)\n",
    "## and we have to find the coefficient lamda so we must have a matrix that will contain \n",
    "## hermitian conjugate of each wavevector i.e.convertinng them in a row then taking it's complex conjugate\n",
    "##well this can be done in one line only :) using np.conjugate\n",
    "\n",
    "\n",
    "conjugates = np.transpose(np.conjugate(Eigvect)) ##this will just take the complex conjugate of eeach vector \n",
    "\n",
    "\n",
    "Eigvect = np.transpose(Eigvect)   ## i did it because i have lambda as a column vectors so for easiness \n",
    "\n",
    "lambda_0 =  np.matmul(conjugates,Psi)  ## finding lambdas at t=0\n",
    "\n",
    "\n",
    "lambda_0 = lambda_0.reshape(N,1) ### as i told you i am habitual to work with column matrix\n",
    "Eigval = Eigval.reshape(N,1)\n",
    "\n",
    "t= 0   # initial time \n",
    "dt = 0.1 ##time step\n",
    "\n",
    "N_iter = 500  #number of iteration\n",
    "for i in range(N_iter):\n",
    " \n",
    "\n",
    "    lambda_t = lambda_0*np.exp(-1.j*Eigval*t) ##calculatating coefficient at later instant\n",
    "\n",
    "    \n",
    "    Psi_t = np.multiply(Eigvect,lambda_t)   ##finding psi(t) using superposition principal\n",
    "    Psi_t = np.sum(Psi_t,axis = 0) ##taking sum along rows\n",
    "\n",
    "        \n",
    "    Psi_t = prob(Psi_t) \n",
    "    Psi_t = Psi_t.reshape(N,1)   ##column matrix :(\n",
    "    Psi_History = np.hstack((Psi_History,Psi_t))  ##storing mod psi square\n",
    "    t+= dt  ##updating time\n",
    "    \n",
    "    \n",
    "    \n",
    "    if(i%100==0 and i<=1000):\n",
    "        \n",
    "        print(\"|Phi|^2 = \",np.sum(Psi_sqr))\n",
    "\n",
    "     \n"
   ]
  },
  {
   "cell_type": "markdown",
   "metadata": {},
   "source": [
    "## <center> Simulation </center>\n"
   ]
  },
  {
   "cell_type": "code",
   "execution_count": 5,
   "metadata": {},
   "outputs": [
    {
     "data": {
      "application/vnd.jupyter.widget-view+json": {
       "model_id": "a8c54857f4104ee59fe88134268b0c49",
       "version_major": 2,
       "version_minor": 0
      },
      "text/plain": [
       "Figure(animation_duration=75, axes=[Axis(scale=LinearScale()), Axis(orientation='vertical', scale=LinearScale(…"
      ]
     },
     "metadata": {},
     "output_type": "display_data"
    },
    {
     "data": {
      "application/vnd.jupyter.widget-view+json": {
       "model_id": "ba3d6056ced74c2b93e7dd756a70e67d",
       "version_major": 2,
       "version_minor": 0
      },
      "text/plain": [
       "interactive(children=(Play(value=0, description='N1', interval=80, max=500), Output()), _dom_classes=('widget-…"
      ]
     },
     "metadata": {},
     "output_type": "display_data"
    }
   ],
   "source": [
    "\n",
    "animate_time = 80  ##you can change this time to tinker with animation\n",
    "fig.animation_duration = animate_time-5  ##synchronizing figure with animation time \n",
    "\n",
    "\n",
    "def animate(N1):  ##animation function. widget will call it and it will show us what is mod psi square at later instant\n",
    "    plot.y = s_p*Psi_History[:,N1]  \n",
    "\n",
    "display(fig) ##displaying figure\n",
    "\n",
    "linked_wdgt = interactive(animate,N1= Play(interval = animate_time,value=0,min=0,max=N_iter,step=1,descrption= \"press play\",disabled = False))\n",
    "\n",
    "display(linked_wdgt)\n",
    "\n"
   ]
  },
  {
   "cell_type": "markdown",
   "metadata": {},
   "source": [
    "# *VOILA ! ! !*"
   ]
  }
 ],
 "metadata": {
  "kernelspec": {
   "display_name": "Python 3",
   "language": "python",
   "name": "python3"
  },
  "language_info": {
   "codemirror_mode": {
    "name": "ipython",
    "version": 3
   },
   "file_extension": ".py",
   "mimetype": "text/x-python",
   "name": "python",
   "nbconvert_exporter": "python",
   "pygments_lexer": "ipython3",
   "version": "3.8.3"
  },
  "latex_envs": {
   "LaTeX_envs_menu_present": true,
   "autoclose": false,
   "autocomplete": false,
   "bibliofile": "biblio.bib",
   "cite_by": "apalike",
   "current_citInitial": 1,
   "eqLabelWithNumbers": true,
   "eqNumInitial": 1,
   "hotkeys": {
    "equation": "Ctrl-E",
    "itemize": "Ctrl-I"
   },
   "labels_anchors": false,
   "latex_user_defs": false,
   "report_style_numbering": false,
   "user_envs_cfg": false
  }
 },
 "nbformat": 4,
 "nbformat_minor": 4
}
