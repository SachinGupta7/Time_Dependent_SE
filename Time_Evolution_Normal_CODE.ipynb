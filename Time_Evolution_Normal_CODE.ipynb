{
 "cells": [
  {
   "cell_type": "markdown",
   "metadata": {},
   "source": [
    " # Run cells one by one by (shift+enter)"
   ]
  },
  {
   "cell_type": "code",
   "execution_count": 17,
   "metadata": {},
   "outputs": [],
   "source": [
    "import numpy as np\n",
    "from ipywidgets import*\n",
    "from bqplot import pyplot as plt"
   ]
  },
  {
   "cell_type": "markdown",
   "metadata": {},
   "source": [
    "## defining Functions\n",
    "\n",
    "1. First function will calculate $\\Phi^{\\dagger}\\Phi$\n",
    "2. Second one will return Gaussian function\n",
    "\n"
   ]
  },
  {
   "cell_type": "code",
   "execution_count": 18,
   "metadata": {},
   "outputs": [],
   "source": [
    "\n",
    "\n",
    "def prob(H):\n",
    "    bn = np.conjugate(H)\n",
    "    vb = np.multiply(bn,H)\n",
    "    return np.real(vb);\n",
    "\n",
    "\n",
    "\n",
    "def phi(x,sig,peak):\n",
    "    const = 1.0/(np.sqrt(2*np.pi*sig*sig))\n",
    "    return const*(np.exp(-((x-peak)**2)/(4*sig**2)))/(sig*np.sqrt(2*np.pi))"
   ]
  },
  {
   "cell_type": "markdown",
   "metadata": {},
   "source": [
    "## Defining parameters and Normalized Gaussian Function"
   ]
  },
  {
   "cell_type": "code",
   "execution_count": 22,
   "metadata": {},
   "outputs": [
    {
     "data": {
      "application/vnd.jupyter.widget-view+json": {
       "model_id": "fb1a98b586364d6ba0dcb7b36babbcac",
       "version_major": 2,
       "version_minor": 0
      },
      "text/plain": [
       "VBox(children=(Figure(animation_duration=200, axes=[Axis(scale=LinearScale()), Axis(orientation='vertical', sc…"
      ]
     },
     "metadata": {},
     "output_type": "display_data"
    }
   ],
   "source": [
    "N = 500\n",
    "sig = 1.5\n",
    "peak = 0  ## value at which Gaussian exhibits its peak\n",
    "xs = np.linspace(-30,30,N)    \n",
    "dx = xs[4]-xs[3]\n",
    "\n",
    "Psi = np.array([phi(x,sig,peak) for x in xs],dtype = complex)\n",
    "norm_const = 1.0/np.sqrt(np.sum(prob(Psi)))\n",
    "Psi = norm_const*Psi  ## Normalized Wave function\n",
    "\n",
    "\n",
    "\n",
    "\n",
    "fig = plt.figure(layout= {'width':'1000px','height':'800px'})\n",
    "fig.animation_duration = 200\n",
    "plt.clear()\n",
    "\n",
    "Psi_sqr = prob(Psi)\n",
    "\n",
    "plot = plt.plot(xs,Psi_sqr)\n",
    "plt.ylim(0,np.max(Psi_sqr)+0.01)\n",
    "plt.show()"
   ]
  },
  {
   "cell_type": "markdown",
   "metadata": {},
   "source": [
    "## Time Evolution (Main Part):\n",
    "\n"
   ]
  },
  {
   "cell_type": "markdown",
   "metadata": {},
   "source": [
    "### It will also show value of $\\Phi^{\\dagger}\\Phi$ at different instants"
   ]
  },
  {
   "cell_type": "code",
   "execution_count": 23,
   "metadata": {
    "scrolled": false
   },
   "outputs": [
    {
     "name": "stdout",
     "output_type": "stream",
     "text": [
      "|Phi|^2 =  1.0000000000000002\n"
     ]
    },
    {
     "data": {
      "application/vnd.jupyter.widget-view+json": {
       "model_id": "fb1a98b586364d6ba0dcb7b36babbcac",
       "version_major": 2,
       "version_minor": 0
      },
      "text/plain": [
       "VBox(children=(Figure(animation_duration=200, axes=[Axis(scale=LinearScale(), side='bottom'), Axis(orientation…"
      ]
     },
     "metadata": {},
     "output_type": "display_data"
    },
    {
     "name": "stdout",
     "output_type": "stream",
     "text": [
      "|Phi|^2 =  1.0000000000000002\n",
      "|Phi|^2 =  1.0000000000000002\n",
      "|Phi|^2 =  1.0000000000000002\n",
      "|Phi|^2 =  1.0000000000000002\n",
      "|Phi|^2 =  1.0000000000000002\n",
      "|Phi|^2 =  1.0000000000000002\n",
      "|Phi|^2 =  1.0000000000000002\n",
      "|Phi|^2 =  1.0000000000000002\n",
      "|Phi|^2 =  1.0000000000000002\n",
      "|Phi|^2 =  1.0000000000000002\n"
     ]
    },
    {
     "data": {
      "application/vnd.jupyter.widget-view+json": {
       "model_id": "27f28b96c811489e918f7d2f4fc82f07",
       "version_major": 2,
       "version_minor": 0
      },
      "text/plain": [
       "interactive(children=(Play(value=0, description='N1', interval=2, max=2000), Output()), _dom_classes=('widget-…"
      ]
     },
     "metadata": {},
     "output_type": "display_data"
    },
    {
     "data": {
      "text/plain": [
       "<function __main__.gv(N1)>"
      ]
     },
     "execution_count": 23,
     "metadata": {},
     "output_type": "execute_result"
    }
   ],
   "source": [
    "\n",
    "\n",
    "Psi_History = Psi_sqr.reshape(N,1)  ##we will stack Psi_square value in this numpy array coulumn vise\n",
    "\n",
    "\n",
    "\n",
    "\n",
    "\n",
    "print(\"|Phi|^2 = \",np.sum(Psi_sqr))\n",
    "\n",
    "\n",
    "plt.show()\n",
    "\n",
    "\n",
    "\n",
    "def kdirac(i,j):\n",
    "    if(i==j):\n",
    "        return 1;\n",
    "    else:\n",
    "        return 0;\n",
    "def hamil(i,j):\n",
    "    v =(-kdirac(i+1,j)+2*kdirac(i,j)-kdirac(i-1,j))/(dx**2) ;\n",
    "    return v;\n",
    "\n",
    "Ham = np.zeros(N*N).reshape(N,N)\n",
    "\n",
    "\n",
    "for i in range(N):\n",
    "    for j in range(N):\n",
    "        Ham[i,j] = hamil(i,j)\n",
    "Eigval,Eigvect = np.linalg.eigh(Ham)    \n",
    "\n",
    "\n",
    "\n",
    "\n",
    "\n",
    "XX = np.conjugate(np.transpose(Eigvect))\n",
    "Eigvect = np.transpose(Eigvect)\n",
    "\n",
    "cn_s =  np.matmul(XX,Psi)\n",
    "cn_s = cn_s.reshape(N,1)\n",
    "\n",
    "\n",
    "t= 0\n",
    "dt = 0.05\n",
    "Eigval = Eigval.reshape(N,1)\n",
    "N_iter = 1000\n",
    "for i in range(N_iter):\n",
    " \n",
    "    zx = -1.j*Eigval*t\n",
    "    cn_t = np.multiply(cn_s,np.exp(zx))\n",
    "    Psi_t = np.multiply(Eigvect,cn_t)\n",
    "    Psi_t = np.sum(Psi_t,axis = 0)\n",
    "\n",
    "        \n",
    "    Psi_t = prob(Psi_t)\n",
    "    if(i%100==0 and i<=N_iter):\n",
    "        \n",
    "        print(\"|Phi|^2 = \",np.sum(Psi_sqr))\n",
    "\n",
    "    Psi_t = Psi_t.reshape(N,1)    \n",
    "        \n",
    "  \n",
    "\n",
    "    Psi_History = np.hstack((Psi_History,Psi_t))\n",
    "    t+= dt\n",
    "\n",
    "def gv(N1):\n",
    "    plot.y = Psi_History[:,N1]\n",
    "\n",
    "interact(gv,N1= Play(interval = 205,value=0,min=0,max=2000,step=1,descrption= \"press play\",disabled = False))\n",
    "\n",
    "\n",
    "\n",
    "\n"
   ]
  },
  {
   "cell_type": "markdown",
   "metadata": {},
   "source": [
    "# *VOILA ! ! !*"
   ]
  }
 ],
 "metadata": {
  "kernelspec": {
   "display_name": "Python 3",
   "language": "python",
   "name": "python3"
  },
  "language_info": {
   "codemirror_mode": {
    "name": "ipython",
    "version": 3
   },
   "file_extension": ".py",
   "mimetype": "text/x-python",
   "name": "python",
   "nbconvert_exporter": "python",
   "pygments_lexer": "ipython3",
   "version": "3.7.6"
  },
  "latex_envs": {
   "LaTeX_envs_menu_present": true,
   "autoclose": false,
   "autocomplete": false,
   "bibliofile": "biblio.bib",
   "cite_by": "apalike",
   "current_citInitial": 1,
   "eqLabelWithNumbers": true,
   "eqNumInitial": 1,
   "hotkeys": {
    "equation": "Ctrl-E",
    "itemize": "Ctrl-I"
   },
   "labels_anchors": false,
   "latex_user_defs": false,
   "report_style_numbering": false,
   "user_envs_cfg": false
  }
 },
 "nbformat": 4,
 "nbformat_minor": 4
}
